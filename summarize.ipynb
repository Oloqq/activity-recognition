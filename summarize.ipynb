{
 "cells": [
  {
   "cell_type": "code",
   "execution_count": 2,
   "metadata": {},
   "outputs": [
    {
     "name": "stdout",
     "output_type": "stream",
     "text": [
      "data/unpacked\\chodzenie-2023-10-11_12-43-28 -> 1 samples\n",
      "data/unpacked\\chodzenie-2023-10-13_15-34-22 -> 26 samples\n",
      "data/unpacked\\chodzenie-2023-10-18_21-24-21 -> 1 samples\n",
      "data/unpacked\\chodzenie-2023-10-23_14-38-35 -> 1 samples\n",
      "data/unpacked\\chodzenie_reka-2023-10-17_14-26-51 -> 1 samples\n",
      "data/unpacked\\chodzenie_reka-2023-10-18_17-14-22 -> 1 samples\n",
      "data/unpacked\\chodzenie_reka-2023-10-19_14-48-50 -> 1 samples\n",
      "data/unpacked\\chodzenie_reka-2023-10-23_14-40-06 -> 1 samples\n",
      "data/unpacked\\schodzenie-2023-10-18_14-14-49 -> 1 samples\n",
      "data/unpacked\\schodzenie-2023-10-19_07-47-58 -> 1 samples\n"
     ]
    },
    {
     "ename": "AssertionError",
     "evalue": "",
     "output_type": "error",
     "traceback": [
      "\u001b[1;31m---------------------------------------------------------------------------\u001b[0m",
      "\u001b[1;31mAssertionError\u001b[0m                            Traceback (most recent call last)",
      "\u001b[1;32mc:\\Users\\kinga\\Documents\\Github\\activity-recognition\\summarize.ipynb Cell 1\u001b[0m line \u001b[0;36m9\n\u001b[0;32m      <a href='vscode-notebook-cell:/c%3A/Users/kinga/Documents/Github/activity-recognition/summarize.ipynb#W0sZmlsZQ%3D%3D?line=2'>3</a>\u001b[0m \u001b[39m# %set_env RECOGNIZER_VERBOSE=1\u001b[39;00m\n\u001b[0;32m      <a href='vscode-notebook-cell:/c%3A/Users/kinga/Documents/Github/activity-recognition/summarize.ipynb#W0sZmlsZQ%3D%3D?line=3'>4</a>\u001b[0m \n\u001b[0;32m      <a href='vscode-notebook-cell:/c%3A/Users/kinga/Documents/Github/activity-recognition/summarize.ipynb#W0sZmlsZQ%3D%3D?line=4'>5</a>\u001b[0m \u001b[39m# %autoreload\u001b[39;00m\n\u001b[0;32m      <a href='vscode-notebook-cell:/c%3A/Users/kinga/Documents/Github/activity-recognition/summarize.ipynb#W0sZmlsZQ%3D%3D?line=5'>6</a>\u001b[0m \u001b[39mfrom\u001b[39;00m \u001b[39mrecognizer\u001b[39;00m\u001b[39m.\u001b[39;00m\u001b[39mraw_samples\u001b[39;00m \u001b[39mimport\u001b[39;00m load_raw_suite\n\u001b[1;32m----> <a href='vscode-notebook-cell:/c%3A/Users/kinga/Documents/Github/activity-recognition/summarize.ipynb#W0sZmlsZQ%3D%3D?line=8'>9</a>\u001b[0m suite \u001b[39m=\u001b[39m load_raw_suite(path)\n\u001b[0;32m     <a href='vscode-notebook-cell:/c%3A/Users/kinga/Documents/Github/activity-recognition/summarize.ipynb#W0sZmlsZQ%3D%3D?line=9'>10</a>\u001b[0m \u001b[39mprint\u001b[39m(suite)\n",
      "File \u001b[1;32mc:\\Users\\kinga\\Documents\\Github\\activity-recognition\\recognizer\\raw_samples.py:81\u001b[0m, in \u001b[0;36mload_raw_suite\u001b[1;34m(suite_dir)\u001b[0m\n\u001b[0;32m     78\u001b[0m samples \u001b[39m=\u001b[39m []\n\u001b[0;32m     79\u001b[0m \u001b[39mfor\u001b[39;00m sample_dir \u001b[39min\u001b[39;00m [f \u001b[39mfor\u001b[39;00m f \u001b[39min\u001b[39;00m os\u001b[39m.\u001b[39mlistdir(suite_dir) \u001b[39mif\u001b[39;00m \u001b[39mnot\u001b[39;00m os\u001b[39m.\u001b[39mpath\u001b[39m.\u001b[39misfile(f)]:\n\u001b[0;32m     80\u001b[0m     samples\u001b[39m.\u001b[39mextend(\n\u001b[1;32m---> 81\u001b[0m         load_raw_sample(\n\u001b[0;32m     82\u001b[0m             os\u001b[39m.\u001b[39mpath\u001b[39m.\u001b[39mjoin(suite_dir, sample_dir),\n\u001b[0;32m     83\u001b[0m             infer_activity(sample_dir)\n\u001b[0;32m     84\u001b[0m         ))\n\u001b[0;32m     85\u001b[0m \u001b[39mreturn\u001b[39;00m Suite(suite_dir, samples)\n",
      "File \u001b[1;32mc:\\Users\\kinga\\Documents\\Github\\activity-recognition\\recognizer\\raw_samples.py:57\u001b[0m, in \u001b[0;36mload_raw_sample\u001b[1;34m(sample_dir, activity)\u001b[0m\n\u001b[0;32m     54\u001b[0m orient \u001b[39m=\u001b[39m load_sensor(os\u001b[39m.\u001b[39mpath\u001b[39m.\u001b[39mjoin(sample_dir, \u001b[39m\"\u001b[39m\u001b[39mOrientation.csv\u001b[39m\u001b[39m\"\u001b[39m), trim)\n\u001b[0;32m     55\u001b[0m gravity \u001b[39m=\u001b[39m load_sensor(os\u001b[39m.\u001b[39mpath\u001b[39m.\u001b[39mjoin(sample_dir, \u001b[39m\"\u001b[39m\u001b[39mGravity.csv\u001b[39m\u001b[39m\"\u001b[39m), trim)\n\u001b[1;32m---> 57\u001b[0m \u001b[39massert\u001b[39;00m \u001b[39mlen\u001b[39m(gyro) \u001b[39m==\u001b[39m \u001b[39mlen\u001b[39m(accelerometer) \u001b[39m==\u001b[39m \u001b[39mlen\u001b[39m(orient) \u001b[39m==\u001b[39m \u001b[39mlen\u001b[39m(gravity)\n\u001b[0;32m     59\u001b[0m \u001b[39mif\u001b[39;00m verbosity() \u001b[39m>\u001b[39m \u001b[39m0\u001b[39m:\n\u001b[0;32m     60\u001b[0m     \u001b[39mprint\u001b[39m(\u001b[39mf\u001b[39m\u001b[39m\"\u001b[39m\u001b[39m{\u001b[39;00msample_dir\u001b[39m}\u001b[39;00m\u001b[39m -> \u001b[39m\u001b[39m{\u001b[39;00m\u001b[39mlen\u001b[39m(gyro)\u001b[39m}\u001b[39;00m\u001b[39m samples\u001b[39m\u001b[39m\"\u001b[39m)\n",
      "\u001b[1;31mAssertionError\u001b[0m: "
     ]
    }
   ],
   "source": [
    "path = \"data/unpacked\"\n",
    "\n",
    "%set_env RECOGNIZER_VERBOSE=1\n",
    "\n",
    "%autoreload\n",
    "from recognizer.raw_samples import load_raw_suite\n",
    "\n",
    "\n",
    "suite = load_raw_suite(path)\n",
    "print(suite)"
   ]
  }
 ],
 "metadata": {
  "kernelspec": {
   "display_name": "venv",
   "language": "python",
   "name": "python3"
  },
  "language_info": {
   "codemirror_mode": {
    "name": "ipython",
    "version": 3
   },
   "file_extension": ".py",
   "mimetype": "text/x-python",
   "name": "python",
   "nbconvert_exporter": "python",
   "pygments_lexer": "ipython3",
   "version": "3.11.0"
  },
  "orig_nbformat": 4,
  "vscode": {
   "interpreter": {
    "hash": "2d6dea7717640db8ae4abfde31c84298d6cbfa88c461f997619b9004373e0619"
   }
  }
 },
 "nbformat": 4,
 "nbformat_minor": 2
}
